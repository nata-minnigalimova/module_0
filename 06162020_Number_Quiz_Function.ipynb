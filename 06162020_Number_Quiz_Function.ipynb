{
 "cells": [
  {
   "cell_type": "code",
   "execution_count": null,
   "metadata": {},
   "outputs": [],
   "source": [
    "#Итоговое задание 0.3 Наталья Миннигалимова minnigalie@gmail.com\n",
    "\n",
    "\"\"\"Определим аргумент функции - случайное число из интервала от 1 до 100 включительно\"\"\"\n",
    "import numpy as np\n",
    "number = predict\n",
    "predict = np.random.randint(1,101)\n",
    "\n",
    "def game_core(number): \n",
    "    \"\"\"Функция угадывает число в интервале от 1 до 100 включительно\"\"\"\n",
    "    \n",
    "    min_limit = 1 #нижняя граница интервала при угадывании\n",
    "    max_limit = 100 #верхняя граница интервала при угадывании\n",
    "    count = 0 #счетчик попыток\n",
    "    \"\"\"Мехнизм угадывания - среднее число между нижним и верхним интервалом\"\"\"\n",
    "    current = (min_limit+max_limit)//2 #угаданное число\n",
    "    \n",
    "    while number != current: #пока число не будет угадано\n",
    "        count += 1 #счетчик фиксирует попытку\n",
    "        \"\"\"В зависимости от того, меньше или больше загаданное число, границы интервала сдвигаются\n",
    "           вверх или вниз на одну позицию\"\"\"\n",
    "        if number < current: \n",
    "            max_limit = current - 1 \n",
    "        elif number > current: \n",
    "            min_limit = current + 1 \n",
    "        current = (min_limit + max_limit)//2 #передвижение границ интервала\n",
    "        \n",
    "    print(f\"Я угадал число {current}. Количество попыток - {count}.\")\n",
    "    return(count) \n",
    "\n",
    "def score_game(game_core):\n",
    "    '''Запускаем игру 1000 раз, чтобы узнать, как быстро игра угадывает число'''\n",
    "    count_ls = []\n",
    "    np.random.seed(1)  # фиксируем RANDOM SEED, чтобы ваш эксперимент был воспроизводим!\n",
    "    random_array = np.random.randint(1,101, size=(1000))\n",
    "    for number in random_array:\n",
    "        count_ls.append(game_core(number))\n",
    "    score = int(np.mean(count_ls))\n",
    "    print(f\"Ваш алгоритм угадывает число в среднем за {score} попытки\")\n",
    "    return(score)\n",
    "\n",
    "print(score_game(game_core))\n"
   ]
  }
 ],
 "metadata": {
  "kernelspec": {
   "display_name": "Python 3",
   "language": "python",
   "name": "python3"
  },
  "language_info": {
   "codemirror_mode": {
    "name": "ipython",
    "version": 3
   },
   "file_extension": ".py",
   "mimetype": "text/x-python",
   "name": "python",
   "nbconvert_exporter": "python",
   "pygments_lexer": "ipython3",
   "version": "3.7.6"
  }
 },
 "nbformat": 4,
 "nbformat_minor": 4
}
